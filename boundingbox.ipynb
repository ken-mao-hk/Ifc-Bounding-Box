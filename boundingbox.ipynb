{
  "nbformat": 4,
  "nbformat_minor": 0,
  "metadata": {
    "colab": {
      "provenance": [],
      "authorship_tag": "ABX9TyMWJk3FoGL/U2u/THcZSbeA",
      "include_colab_link": true
    },
    "kernelspec": {
      "name": "python3",
      "display_name": "Python 3"
    },
    "language_info": {
      "name": "python"
    }
  },
  "cells": [
    {
      "cell_type": "markdown",
      "metadata": {
        "id": "view-in-github",
        "colab_type": "text"
      },
      "source": [
        "<a href=\"https://colab.research.google.com/github/ken-mao-hk/gltf/blob/main/boundingbox.ipynb\" target=\"_parent\"><img src=\"https://colab.research.google.com/assets/colab-badge.svg\" alt=\"Open In Colab\"/></a>"
      ]
    },
    {
      "cell_type": "code",
      "source": [
        "pip install --upgrade ifcopenshell && pip install --upgrade numpy"
      ],
      "metadata": {
        "colab": {
          "base_uri": "https://localhost:8080/"
        },
        "id": "f27cdg4Omaw1",
        "outputId": "fbafe10b-a6a1-438a-a548-fd6730004649"
      },
      "execution_count": null,
      "outputs": [
        {
          "output_type": "stream",
          "name": "stdout",
          "text": [
            "Requirement already satisfied: ifcopenshell in /usr/local/lib/python3.11/dist-packages (0.8.2)\n",
            "Requirement already satisfied: shapely in /usr/local/lib/python3.11/dist-packages (from ifcopenshell) (2.1.0)\n",
            "Requirement already satisfied: numpy in /usr/local/lib/python3.11/dist-packages (from ifcopenshell) (2.2.4)\n",
            "Requirement already satisfied: isodate in /usr/local/lib/python3.11/dist-packages (from ifcopenshell) (0.7.2)\n",
            "Requirement already satisfied: python-dateutil in /usr/local/lib/python3.11/dist-packages (from ifcopenshell) (2.8.2)\n",
            "Requirement already satisfied: lark in /usr/local/lib/python3.11/dist-packages (from ifcopenshell) (1.2.2)\n",
            "Requirement already satisfied: typing-extensions in /usr/local/lib/python3.11/dist-packages (from ifcopenshell) (4.13.2)\n",
            "Requirement already satisfied: six>=1.5 in /usr/local/lib/python3.11/dist-packages (from python-dateutil->ifcopenshell) (1.17.0)\n",
            "Requirement already satisfied: numpy in /usr/local/lib/python3.11/dist-packages (2.2.4)\n"
          ]
        }
      ]
    },
    {
      "cell_type": "code",
      "source": [
        "!pip install  --upgrade scipy"
      ],
      "metadata": {
        "colab": {
          "base_uri": "https://localhost:8080/"
        },
        "id": "ufpzLJ4rIlJR",
        "outputId": "f9f5ebfa-23b8-4474-f7c4-6264c70b3933"
      },
      "execution_count": null,
      "outputs": [
        {
          "output_type": "stream",
          "name": "stdout",
          "text": [
            "Requirement already satisfied: scipy in /usr/local/lib/python3.11/dist-packages (1.14.1)\n",
            "Collecting scipy\n",
            "  Downloading scipy-1.15.2-cp311-cp311-manylinux_2_17_x86_64.manylinux2014_x86_64.whl.metadata (61 kB)\n",
            "\u001b[2K     \u001b[90m━━━━━━━━━━━━━━━━━━━━━━━━━━━━━━━━━━━━━━━━\u001b[0m \u001b[32m62.0/62.0 kB\u001b[0m \u001b[31m1.8 MB/s\u001b[0m eta \u001b[36m0:00:00\u001b[0m\n",
            "\u001b[?25hRequirement already satisfied: numpy<2.5,>=1.23.5 in /usr/local/lib/python3.11/dist-packages (from scipy) (2.2.4)\n",
            "Downloading scipy-1.15.2-cp311-cp311-manylinux_2_17_x86_64.manylinux2014_x86_64.whl (37.6 MB)\n",
            "\u001b[2K   \u001b[90m━━━━━━━━━━━━━━━━━━━━━━━━━━━━━━━━━━━━━━━━\u001b[0m \u001b[32m37.6/37.6 MB\u001b[0m \u001b[31m19.7 MB/s\u001b[0m eta \u001b[36m0:00:00\u001b[0m\n",
            "\u001b[?25hInstalling collected packages: scipy\n",
            "  Attempting uninstall: scipy\n",
            "    Found existing installation: scipy 1.14.1\n",
            "    Uninstalling scipy-1.14.1:\n",
            "      Successfully uninstalled scipy-1.14.1\n",
            "Successfully installed scipy-1.15.2\n"
          ]
        }
      ]
    },
    {
      "cell_type": "code",
      "source": [
        "import ifcopenshell\n",
        "import ifcopenshell.geom\n",
        "import ifcopenshell.util.shape\n",
        "import numpy as np\n",
        "\n",
        "\n",
        "def get_bbox_vertices(bbox_min, bbox_max):\n",
        "    \"\"\"Generate all 8 vertices of a bounding box from min/max coordinates\"\"\"\n",
        "    return [\n",
        "        [bbox_min[0], bbox_min[1], bbox_min[2]],  # 0: min XYZ\n",
        "        [bbox_max[0], bbox_min[1], bbox_min[2]],  # 1: max X\n",
        "        [bbox_max[0], bbox_max[1], bbox_min[2]],  # 2: max XY\n",
        "        [bbox_min[0], bbox_max[1], bbox_min[2]],  # 3: max Y\n",
        "        [bbox_min[0], bbox_min[1], bbox_max[2]],  # 4: max Z\n",
        "        [bbox_max[0], bbox_min[1], bbox_max[2]],  # 5: max XZ\n",
        "        [bbox_max[0], bbox_max[1], bbox_max[2]],  # 6: max XYZ\n",
        "        [bbox_min[0], bbox_max[1], bbox_max[2]]  # 7: max YZ\n",
        "    ]\n",
        "\n",
        "\n",
        "def local_to_global(transform_matrix, local_point):\n",
        "    \"\"\"使用形状几何自带的转换矩阵进行坐标转换\"\"\"\n",
        "    local_homogeneous = np.array([*local_point, 1], dtype=np.float64)\n",
        "    global_homogeneous = transform_matrix @ local_homogeneous\n",
        "    global_point = global_homogeneous[:3] / global_homogeneous[3]  # 归一化处理\n",
        "    return global_point.tolist()\n",
        "\n",
        "\n",
        "def get_placement_matrix(placement):\n",
        "    \"\"\"从IfcLocalPlacement获取转换矩阵\"\"\"\n",
        "    if placement.PlacementRelTo is None:\n",
        "        parent_matrix = np.eye(4)\n",
        "    else:\n",
        "        parent_matrix = get_placement_matrix(placement.PlacementRelTo)\n",
        "\n",
        "    axis2placement = placement.RelativePlacement\n",
        "    location = np.array(axis2placement.Location.Coordinates)\n",
        "    # 将毫米转换为米\n",
        "    location = location / 1000.0\n",
        "\n",
        "    if hasattr(axis2placement, 'Axis') and hasattr(axis2placement, 'RefDirection'):\n",
        "        # 检查Axis和RefDirection是否为None\n",
        "        if axis2placement.Axis is not None and axis2placement.RefDirection is not None:\n",
        "            axis = np.array(axis2placement.Axis.DirectionRatios)\n",
        "            ref_direction = np.array(axis2placement.RefDirection.DirectionRatios)\n",
        "            # 构建旋转矩阵（简化处理，可能需要更复杂的计算）\n",
        "            z = np.cross(axis, ref_direction)\n",
        "            rotation_matrix = np.vstack((ref_direction, np.cross(z, ref_direction), z)).T\n",
        "        else:\n",
        "            rotation_matrix = np.eye(3)\n",
        "    else:\n",
        "        rotation_matrix = np.eye(3)\n",
        "\n",
        "    translation_matrix = np.eye(4)\n",
        "    translation_matrix[:3, 3] = location\n",
        "\n",
        "    local_matrix = np.eye(4)\n",
        "    local_matrix[:3, :3] = rotation_matrix\n",
        "\n",
        "    combined_matrix = parent_matrix @ translation_matrix @ local_matrix\n",
        "    return combined_matrix\n",
        "\n",
        "\n",
        "def get_objects_bounding_boxes(ifc_file_path, ifc_type=\"IfcWall\"):\n",
        "    \"\"\"Calculate complete bounding box data including all vertices\"\"\"\n",
        "    try:\n",
        "        ifc_file = ifcopenshell.open(ifc_file_path)\n",
        "    except Exception as e:\n",
        "        print(f\"Failed to open IFC file: {e}\")\n",
        "        return {}\n",
        "\n",
        "    settings = ifcopenshell.geom.settings()\n",
        "    results = {}\n",
        "    objects = ifc_file.by_type(ifc_type)\n",
        "    if not objects:\n",
        "        print(f\"No objects of type {ifc_type} found in the IFC file.\")\n",
        "        return results\n",
        "\n",
        "    for obj in objects:\n",
        "        try:\n",
        "            shape = ifcopenshell.geom.create_shape(settings, obj)\n",
        "            verts = np.array(shape.geometry.verts).reshape(-1, 3)\n",
        "\n",
        "            # 处理转换矩阵缺失的情况，默认使用单位矩阵\n",
        "            transform_matrix = np.eye(4, dtype=np.float64)  # 初始化单位矩阵\n",
        "            if hasattr(shape.geometry, 'transformation_matrix'):\n",
        "                transform_matrix = np.array(shape.geometry.transformation_matrix, dtype=np.float64)\n",
        "            elif hasattr(shape, 'transformation_matrix'):\n",
        "                transform_matrix = np.array(shape.transformation_matrix, dtype=np.float64)\n",
        "            else:\n",
        "                print(f\"Warning: No transformation matrix found for object {obj.GlobalId}, using identity matrix.\")\n",
        "\n",
        "            # 从IfcLocalPlacement获取全局转换矩阵\n",
        "            placement = obj.ObjectPlacement\n",
        "            global_placement_matrix = get_placement_matrix(placement)\n",
        "\n",
        "            bbox_min, bbox_max = ifcopenshell.util.shape.get_bbox(verts)\n",
        "            local_bbox_vertices = get_bbox_vertices(bbox_min, bbox_max)\n",
        "\n",
        "            # 转换局部顶点到全局坐标（使用形状自带的转换矩阵和全局转换矩阵）\n",
        "            global_vertices = []\n",
        "            for vertex in local_bbox_vertices:\n",
        "                local_global_vertex = local_to_global(transform_matrix, vertex)\n",
        "                final_global_vertex = local_to_global(global_placement_matrix, local_global_vertex)\n",
        "                global_vertices.append(final_global_vertex)\n",
        "\n",
        "            global_vertices_np = np.array(global_vertices)\n",
        "            global_bbox_min = np.min(global_vertices_np, axis=0)\n",
        "            global_bbox_max = np.max(global_vertices_np, axis=0)\n",
        "\n",
        "            results[obj.GlobalId] = {\n",
        "                \"type\": obj.is_a(),\n",
        "                \"local_min\": np.round(bbox_min, 3).tolist(),\n",
        "                \"local_max\": np.round(bbox_max, 3).tolist(),\n",
        "                \"local_vertices\": np.round(local_bbox_vertices, 3).tolist(),\n",
        "                \"min\": np.round(global_bbox_min, 3).tolist(),\n",
        "                \"max\": np.round(global_bbox_max, 3).tolist(),\n",
        "                \"vertices\": np.round(global_vertices_np, 3).tolist(),\n",
        "                \"dimensions\": np.round(global_bbox_max - global_bbox_min, 3).tolist()\n",
        "            }\n",
        "\n",
        "            print(f\"Debug: Object {obj.GlobalId} - Transform Matrix:\\n{transform_matrix}\")\n",
        "            print(f\"Debug: Object {obj.GlobalId} - Global Placement Matrix:\\n{global_placement_matrix}\")\n",
        "            print(f\"Debug: Global Bounding Box: Min={global_bbox_min}, Max={global_bbox_max}\\n\")\n",
        "\n",
        "        except Exception as e:\n",
        "            print(f\"Error processing object {obj.GlobalId}: {e}\")\n",
        "            results[obj.GlobalId] = {\"error\": str(e)}\n",
        "\n",
        "    return results\n",
        "\n",
        "\n",
        "# Example usage\n",
        "if __name__ == \"__main__\":\n",
        "    file_path = \"/content/your_model.ifc\"\n",
        "    bboxes = get_objects_bounding_boxes(file_path, \"IfcWall\")\n",
        "\n",
        "    if bboxes:\n",
        "        for guid, data in bboxes.items():\n",
        "            if \"min\" in data:\n",
        "                print(f\"\\n{data['type']} {guid}:\")\n",
        "                print(f\"Local Min: {data['local_min']}\")\n",
        "                print(f\"Local Max: {data['local_max']}\")\n",
        "                print(\"Local All vertices:\")\n",
        "                for i, vertex in enumerate(data['local_vertices']):\n",
        "                    print(f\"  Local Vertex {i}: {vertex}\")\n",
        "                print(f\"Global Min: {data['min']}\")\n",
        "                print(f\"Global Max: {data['max']}\")\n",
        "                print(f\"Dimensions (LxWxH): {data['dimensions']}\")\n",
        "                print(\"Global All vertices:\")\n",
        "                for i, vertex in enumerate(data['vertices']):\n",
        "                    print(f\"  Global Vertex {i}: {vertex}\")\n",
        "    else:\n",
        "        print(\"No valid bounding box data was obtained.\")\n"
      ],
      "metadata": {
        "colab": {
          "base_uri": "https://localhost:8080/"
        },
        "id": "hADJOCARB9ZS",
        "outputId": "5839726a-92b9-4ffd-9f78-af7760e04f0b"
      },
      "execution_count": null,
      "outputs": [
        {
          "output_type": "stream",
          "name": "stdout",
          "text": [
            "Warning: No transformation matrix found for object 072ZP5RUb3gBTy6zAYFpDy, using identity matrix.\n",
            "Debug: Object 072ZP5RUb3gBTy6zAYFpDy - Transform Matrix:\n",
            "[[1. 0. 0. 0.]\n",
            " [0. 1. 0. 0.]\n",
            " [0. 0. 1. 0.]\n",
            " [0. 0. 0. 1.]]\n",
            "Debug: Object 072ZP5RUb3gBTy6zAYFpDy - Global Placement Matrix:\n",
            "[[ 1.          0.          0.         -2.94165764]\n",
            " [ 0.          1.          0.          1.03178204]\n",
            " [ 0.          0.          1.          0.        ]\n",
            " [ 0.          0.          0.          1.        ]]\n",
            "Debug: Global Bounding Box: Min=[-2.94165764  0.88678204  0.        ], Max=[2.05834236 1.17678204 4.        ]\n",
            "\n",
            "\n",
            "IfcWallStandardCase 072ZP5RUb3gBTy6zAYFpDy:\n",
            "Local Min: [0.0, -0.145, 0.0]\n",
            "Local Max: [5.0, 0.145, 4.0]\n",
            "Local All vertices:\n",
            "  Local Vertex 0: [0.0, -0.145, 0.0]\n",
            "  Local Vertex 1: [5.0, -0.145, 0.0]\n",
            "  Local Vertex 2: [5.0, 0.145, 0.0]\n",
            "  Local Vertex 3: [0.0, 0.145, 0.0]\n",
            "  Local Vertex 4: [0.0, -0.145, 4.0]\n",
            "  Local Vertex 5: [5.0, -0.145, 4.0]\n",
            "  Local Vertex 6: [5.0, 0.145, 4.0]\n",
            "  Local Vertex 7: [0.0, 0.145, 4.0]\n",
            "Global Min: [-2.942, 0.887, 0.0]\n",
            "Global Max: [2.058, 1.177, 4.0]\n",
            "Dimensions (LxWxH): [5.0, 0.29, 4.0]\n",
            "Global All vertices:\n",
            "  Global Vertex 0: [-2.942, 0.887, 0.0]\n",
            "  Global Vertex 1: [2.058, 0.887, 0.0]\n",
            "  Global Vertex 2: [2.058, 1.177, 0.0]\n",
            "  Global Vertex 3: [-2.942, 1.177, 0.0]\n",
            "  Global Vertex 4: [-2.942, 0.887, 4.0]\n",
            "  Global Vertex 5: [2.058, 0.887, 4.0]\n",
            "  Global Vertex 6: [2.058, 1.177, 4.0]\n",
            "  Global Vertex 7: [-2.942, 1.177, 4.0]\n"
          ]
        }
      ]
    }
  ]
}